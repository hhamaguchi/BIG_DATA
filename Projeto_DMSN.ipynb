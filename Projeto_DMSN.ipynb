{
  "nbformat": 4,
  "nbformat_minor": 0,
  "metadata": {
    "colab": {
      "name": "Projeto_DMSN.ipynb",
      "version": "0.3.2",
      "provenance": [],
      "collapsed_sections": [],
      "include_colab_link": true
    },
    "kernelspec": {
      "name": "python3",
      "display_name": "Python 3"
    }
  },
  "cells": [
    {
      "cell_type": "markdown",
      "metadata": {
        "id": "view-in-github",
        "colab_type": "text"
      },
      "source": [
        "<a href=\"https://colab.research.google.com/github/hhamaguchi/BIG_DATA/blob/master/Projeto_DMSN.ipynb\" target=\"_parent\"><img src=\"https://colab.research.google.com/assets/colab-badge.svg\" alt=\"Open In Colab\"/></a>"
      ]
    },
    {
      "metadata": {
        "id": "mrcygyxjakoq",
        "colab_type": "code",
        "colab": {}
      },
      "cell_type": "code",
      "source": [
        "# Instalação de bibliotecas\n",
        "!pip3 install -q numpy scipy pandas twython\n",
        "!pip3 install --upgrade -q gspread"
      ],
      "execution_count": 0,
      "outputs": []
    },
    {
      "metadata": {
        "id": "WeMhTv06SuLi",
        "colab_type": "code",
        "colab": {}
      },
      "cell_type": "code",
      "source": [
        "# Importação de dependências\n",
        "import pandas as pd\n",
        "from twython import Twython\n",
        "from sklearn.feature_extraction.text import CountVectorizer, TfidfTransformer"
      ],
      "execution_count": 0,
      "outputs": []
    },
    {
      "metadata": {
        "id": "a4CI7W5QlvQs",
        "colab_type": "code",
        "colab": {}
      },
      "cell_type": "code",
      "source": [
        "# Solicitação de autorização para usar o Google Colab\n",
        "from google.colab import auth\n",
        "auth.authenticate_user()\n",
        "\n",
        "import gspread\n",
        "from oauth2client.client import GoogleCredentials\n",
        "\n",
        "gc = gspread.authorize(GoogleCredentials.get_application_default())"
      ],
      "execution_count": 0,
      "outputs": []
    },
    {
      "metadata": {
        "id": "ebwA197tSSps",
        "colab_type": "code",
        "colab": {}
      },
      "cell_type": "code",
      "source": [
        "# Credenciais\n",
        "APP_KEY = 'B6cZTTHoeMr96AFfOsbVM2lGG'\n",
        "APP_SECRET = 'QhGt5p4TsGVK8tOds1fWc7hEDIFfrgnTW94fenpl1WneWLWqfz'\n",
        "OAUTH_TOKEN = '167813147-tP4vOpAZFlcfRLlqXWMfRqcBW3yvjNpzRAborOUu'\n",
        "OAUTH_TOKEN_SECRET = '8UshaZNMspgdN2kRuSlkPbBJfYdu3UDzOzZt0R1F8JoU7'"
      ],
      "execution_count": 0,
      "outputs": []
    },
    {
      "metadata": {
        "id": "KXclSfDMSm9M",
        "colab_type": "code",
        "colab": {}
      },
      "cell_type": "code",
      "source": [
        "# Conexão com o twitter\n",
        "twitter = Twython(APP_KEY, APP_SECRET, OAUTH_TOKEN, OAUTH_TOKEN_SECRET)"
      ],
      "execution_count": 0,
      "outputs": []
    },
    {
      "metadata": {
        "id": "gpflI08QhlUY",
        "colab_type": "code",
        "colab": {}
      },
      "cell_type": "code",
      "source": [
        "# Query no twitter\n",
        "def queryTwitterToDF(q):\n",
        "  query = { 'q': q, 'count': 25, 'lang': 'pt', 'result_type': 'mixed'}\n",
        "  result = twitter.search(**query)\n",
        "  dict_ = {'user': [],'text': [], 'favorite_count': []}  \n",
        "  for status in result['statuses']:  \n",
        "      dict_['user'].append(status['user'])\n",
        "      dict_['text'].append(status['text'])\n",
        "      dict_['favorite_count'].append(status['favorite_count'])\n",
        "  df = pd.DataFrame(dict_)  \n",
        "  df.sort_values(by='favorite_count')\n",
        "  return df"
      ],
      "execution_count": 0,
      "outputs": []
    },
    {
      "metadata": {
        "id": "hgrz4FycBe6U",
        "colab_type": "code",
        "colab": {}
      },
      "cell_type": "code",
      "source": [
        "# Palavras chave de direita\n",
        "df_direita = pd.concat([queryTwitterToDF('#alckmin'), queryTwitterToDF('#extremaesquerda'),\n",
        "                      queryTwitterToDF('#conservador'), queryTwitterToDF('#candidatodedireita'),\n",
        "                      queryTwitterToDF('#bolsomito'), queryTwitterToDF('#partidodedireita'),\n",
        "                      queryTwitterToDF('#PSDB'), queryTwitterToDF('#PFL'), queryTwitterToDF('#NOVO'),\n",
        "                      queryTwitterToDF('#petralhas')], ignore_index=True)\n",
        "df_dir = df_direita.iloc[0:200,:]"
      ],
      "execution_count": 0,
      "outputs": []
    },
    {
      "metadata": {
        "id": "qsJjYZpK95kE",
        "colab_type": "code",
        "colab": {}
      },
      "cell_type": "code",
      "source": [
        "# Palavras chave de esquerda\n",
        "df_esquerda = pd.concat([queryTwitterToDF('#lula'), queryTwitterToDF('#extremadireita'),\n",
        "                      queryTwitterToDF('#lulalivre'), queryTwitterToDF('#candidatodeesquerda'),\n",
        "                      queryTwitterToDF('#haddad'), queryTwitterToDF('#partidodeesquerda'),\n",
        "                      queryTwitterToDF('#PT'), queryTwitterToDF('#golpe'),\n",
        "                      queryTwitterToDF('#coxinhas')], ignore_index=True)\n",
        "df_esq = df_esquerda.iloc[0:200,:]"
      ],
      "execution_count": 0,
      "outputs": []
    },
    {
      "metadata": {
        "id": "UDYl-ZKhNJlJ",
        "colab_type": "code",
        "colab": {}
      },
      "cell_type": "code",
      "source": [
        "# Palavras chave neutras\n",
        "df_neutro = pd.concat([queryTwitterToDF('-#lula'), queryTwitterToDF('-#extremadireita'),\n",
        "                      queryTwitterToDF('-#lulalivre'), queryTwitterToDF('-#candidatodeesquerda'),\n",
        "                      queryTwitterToDF('-#haddad'), queryTwitterToDF('-#partidodeesquerda'),\n",
        "                      queryTwitterToDF('-#PT'), queryTwitterToDF('-#golpe'),\n",
        "                      queryTwitterToDF('-#coxinhas'), queryTwitterToDF('-#alckmin'), \n",
        "                      queryTwitterToDF('-#extremaesquerda'), queryTwitterToDF('-#conservador'), \n",
        "                      queryTwitterToDF('-#candidatodedireita'), queryTwitterToDF('-#bolsomito'), \n",
        "                      queryTwitterToDF('-#partidodedireita'), queryTwitterToDF('-#PSDB'), queryTwitterToDF('-#PFL'),\n",
        "                      queryTwitterToDF('-#petralhas')], ignore_index=True)\n",
        "\n",
        "df_n = df_neutro.iloc[0:100,:]"
      ],
      "execution_count": 0,
      "outputs": []
    },
    {
      "metadata": {
        "id": "0aarYCKHn4AG",
        "colab_type": "code",
        "colab": {}
      },
      "cell_type": "code",
      "source": [
        "# Inserção de twittes na spreadsheet 'twitter_politico'\n",
        "sh = gc.open('twitter_politico')\n",
        "direita_sheet = sh.get_worksheet(0)\n",
        "esquerda_sheet = sh.get_worksheet(1)\n",
        "neutro_sheet = sh.get_worksheet(2)\n",
        "\n",
        "for index, row in df_dir.iterrows():\n",
        "  direita_sheet.update_acell('A' + str(index + 1), row['text'])\n",
        "\n",
        "for index, row in df_esq.iterrows():\n",
        "  esquerda_sheet.update_acell('A' + str(index + 1), row['text'])\n",
        "\n",
        "for index, row in df_n.iterrows():\n",
        "  neutro_sheet.update_acell('A' + str(index + 1), row['text'])"
      ],
      "execution_count": 0,
      "outputs": []
    },
    {
      "metadata": {
        "id": "1pNxUPJ-HuvJ",
        "colab_type": "code",
        "colab": {}
      },
      "cell_type": "code",
      "source": [
        "# Carregamento de dados para DataFrame.\n",
        "sh = gc.open('twitter_politico')\n",
        "direita_sheet = sh.get_worksheet(0)\n",
        "esquerda_sheet = sh.get_worksheet(1)\n",
        "neutro_sheet = sh.get_worksheet(2)\n",
        "\n",
        "# Empilha todos os valores em uma lista\n",
        "dict_ = {'text': [], 'label': []}\n",
        "for row in direita_sheet.get_all_values():\n",
        "  dict_['text'].append(row[0])\n",
        "  dict_['label'].append(0)\n",
        "\n",
        "for row in esquerda_sheet.get_all_values():\n",
        "  dict_['text'].append(row[0])\n",
        "  dict_['label'].append(1)\n",
        "\n",
        "for row in neutro_sheet.get_all_values():\n",
        "  dict_['text'].append(row[0])\n",
        "  dict_['label'].append(2)\n",
        "  \n",
        "df = pd.DataFrame(dict_)"
      ],
      "execution_count": 0,
      "outputs": []
    },
    {
      "metadata": {
        "id": "4nrgd4m-I5lS",
        "colab_type": "code",
        "colab": {}
      },
      "cell_type": "code",
      "source": [
        "# Criando a matrix TDIDF \n",
        "count_vect = CountVectorizer()\n",
        "\n",
        "X_TF = count_vect.fit_transform(df['text'])\n",
        "\n",
        "tfidf_transformer = TfidfTransformer()\n",
        "X = tfidf_transformer.fit_transform(X_TF)\n",
        "#print(type(X))"
      ],
      "execution_count": 0,
      "outputs": []
    },
    {
      "metadata": {
        "id": "nrGKLhKJJBKx",
        "colab_type": "code",
        "colab": {}
      },
      "cell_type": "code",
      "source": [
        "# Treinamento por Aprendizagem de Máquina\n",
        "from sklearn.naive_bayes import MultinomialNB\n",
        "clf = MultinomialNB().fit(X_TF, df['label'])"
      ],
      "execution_count": 0,
      "outputs": []
    },
    {
      "metadata": {
        "id": "R8fzUL3oOuCw",
        "colab_type": "code",
        "outputId": "a2a14262-e1e4-420c-a2f0-c26201693bc6",
        "colab": {
          "base_uri": "https://localhost:8080/",
          "height": 54
        }
      },
      "cell_type": "code",
      "source": [
        "# Selecão dos twittes de um usuário\n",
        "import tweepy\n",
        "from tweepy import OAuthHandler\n",
        "from tweepy import API\n",
        "\n",
        "screen_name = '@alanprando'\n",
        "\n",
        "auth = tweepy.OAuthHandler(APP_KEY, APP_SECRET)\n",
        "auth.set_access_token(OAUTH_TOKEN, OAUTH_TOKEN_SECRET)\n",
        "api = tweepy.API(auth)\n",
        "\n",
        "\n",
        "number_of_tweets =10\n",
        "tweets = api.user_timeline(screen_name, count=10)\n",
        "\n",
        "tmp = []\n",
        "\n",
        "tweets_for_csv = [tweet.text for tweet in tweets]\n",
        "for j in tweets_for_csv:\n",
        "  tmp.append(j)\n",
        "\n",
        "print(tmp) "
      ],
      "execution_count": 14,
      "outputs": [
        {
          "output_type": "stream",
          "text": [
            "['RT @TheNoiteVideos: Acelera São Paulo https://t.co/z3waJJIIqA', 'RT @OGloboPolitica: Ex-assessor de @FlavioBolsonaro fez saques em 14 bairros, aponta relatório do Coaf https://t.co/R8UD8RIlyn https://t.co…', 'RT @joaoamoedonovo: Concordo com a avaliação de Paulo Guedes. O Sistema S deve ser revisto e suas contribuições, que atualmente são obrigat…', 'RT @joaoamoedonovo: Isso é NOVO.\\n\\n✅Redução de 21 para 11 secretarias\\n✅Não morar em palácio\\n✅Dispensar a frotas de de helicópteros e aviões…', 'RT @da_cia: Luciano Huck, meu, puta cara antenado com a Educação, bicho. Precisamos dessa galera https://t.co/twrT7bfKLJ', 'RT @gabrielazevedo: Uma informação básica: é possível se opor ao PT e ao PSL ao mesmo tempo? É possível. No Brasil, uma pessoa pode não gos…', 'RT @JovemPanNews: \"Você quer ser preso?\", diz Lewandowski a passageiro de avião em vídeo que circula nas redes sociais. https://t.co/teuzlb…', 'RT @janainalimasp: O NOVO assumiu o compromisso de acabar com os privilégios na política brasileira. Como vereadora, honro essa responsabil…', 'RT @oiluiz: 1. Políticos enrolados na Lava Jato votam pelo aumento do salário do STF \\n\\n2. Temer aprova o aumento \\n\\n3. STF agora vota o indu…', 'RT @foIha_sp: @folha A concorrência tá forte hein!!!']\n"
          ],
          "name": "stdout"
        }
      ]
    },
    {
      "metadata": {
        "id": "2F2-etWY9SRC",
        "colab_type": "code",
        "outputId": "a8c6627a-8658-47da-ab65-af9ca66cc254",
        "colab": {
          "base_uri": "https://localhost:8080/",
          "height": 224
        }
      },
      "cell_type": "code",
      "source": [
        "# Predição da classificação do usuário na categoria política\n",
        "# Classificação: 0-direita, 1-esquerda e 2-neutro\n",
        "docs_new_N= tmp\n",
        "X_new_counts_N = count_vect.transform(docs_new_N)\n",
        "X_new_tfidf_N = tfidf_transformer.transform(X_new_counts_N)\n",
        "\n",
        "predicted_N = clf.predict(X_new_tfidf_N)\n",
        "print(predicted_N)\n",
        "\n",
        "for doc, category in zip(docs_new_N, predicted_N):\n",
        "  if category == 0:\n",
        "    print('%r => %s' % (doc, \"direita\"))\n",
        "  elif category == 1:\n",
        "    print('%r => %s' % (doc, \"esquerda\"))\n",
        "  else:\n",
        "    print('%r => %s' % (doc, \"neutro\"))\n"
      ],
      "execution_count": 15,
      "outputs": [
        {
          "output_type": "stream",
          "text": [
            "[1 1 0 1 0 1 1 0 1 1]\n",
            "'RT @TheNoiteVideos: Acelera São Paulo https://t.co/z3waJJIIqA' => esquerda\n",
            "'RT @OGloboPolitica: Ex-assessor de @FlavioBolsonaro fez saques em 14 bairros, aponta relatório do Coaf https://t.co/R8UD8RIlyn https://t.co…' => esquerda\n",
            "'RT @joaoamoedonovo: Concordo com a avaliação de Paulo Guedes. O Sistema S deve ser revisto e suas contribuições, que atualmente são obrigat…' => direita\n",
            "'RT @joaoamoedonovo: Isso é NOVO.\\n\\n✅Redução de 21 para 11 secretarias\\n✅Não morar em palácio\\n✅Dispensar a frotas de de helicópteros e aviões…' => esquerda\n",
            "'RT @da_cia: Luciano Huck, meu, puta cara antenado com a Educação, bicho. Precisamos dessa galera https://t.co/twrT7bfKLJ' => direita\n",
            "'RT @gabrielazevedo: Uma informação básica: é possível se opor ao PT e ao PSL ao mesmo tempo? É possível. No Brasil, uma pessoa pode não gos…' => esquerda\n",
            "'RT @JovemPanNews: \"Você quer ser preso?\", diz Lewandowski a passageiro de avião em vídeo que circula nas redes sociais. https://t.co/teuzlb…' => esquerda\n",
            "'RT @janainalimasp: O NOVO assumiu o compromisso de acabar com os privilégios na política brasileira. Como vereadora, honro essa responsabil…' => direita\n",
            "'RT @oiluiz: 1. Políticos enrolados na Lava Jato votam pelo aumento do salário do STF \\n\\n2. Temer aprova o aumento \\n\\n3. STF agora vota o indu…' => esquerda\n",
            "'RT @foIha_sp: @folha A concorrência tá forte hein!!!' => esquerda\n"
          ],
          "name": "stdout"
        }
      ]
    },
    {
      "metadata": {
        "id": "nSPHFBgU-4rT",
        "colab_type": "code",
        "outputId": "bebe73bf-0724-4e15-b6de-a34c069ff108",
        "colab": {
          "base_uri": "https://localhost:8080/",
          "height": 34
        }
      },
      "cell_type": "code",
      "source": [
        "# Importaçao de bibliotecas estatísticas\n",
        "import numpy as np\n",
        "import scipy.stats\n",
        "import statistics\n",
        "\n",
        "#predicted_N[1]\n",
        "\n",
        "temp = [predicted_N[0],\n",
        "        predicted_N[1],\n",
        "        predicted_N[2],\n",
        "        predicted_N[3],\n",
        "        predicted_N[4],\n",
        "        predicted_N[5],\n",
        "        predicted_N[6],\n",
        "        predicted_N[7],\n",
        "        predicted_N[8],\n",
        "        predicted_N[9]]\n",
        "\n",
        "\n",
        "#print('media:', np.mean(temp))\n",
        "#print('mediana:', np.median(temp))\n",
        "#print('max:', np.max(temp))\n",
        "#print('min:', np.min(temp))\n",
        "#print('contador:', len(temp))\n",
        "#print('moda:', statistics.mode(temp))\n",
        "\n",
        "# A resposta final sobre a categoria do usuário analisado\n",
        "if statistics.mode(temp) == 0:\n",
        "  print('Provavelmente o usuario é de direita')\n",
        "elif statistics.mode(temp) == 1:\n",
        "  print('Provavelmente o usuario é de esquerda')\n",
        "else:\n",
        "  print('Provavelmente o usuario é neutro')\n"
      ],
      "execution_count": 16,
      "outputs": [
        {
          "output_type": "stream",
          "text": [
            "Provavelmente o usuario é de esquerda\n"
          ],
          "name": "stdout"
        }
      ]
    }
  ]
}